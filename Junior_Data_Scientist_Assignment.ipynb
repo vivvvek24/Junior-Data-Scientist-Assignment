{
  "nbformat": 4,
  "nbformat_minor": 0,
  "metadata": {
    "colab": {
      "provenance": [],
      "authorship_tag": "ABX9TyNv4Q3h2zO96191CT4LFIaq",
      "include_colab_link": true
    },
    "kernelspec": {
      "name": "python3",
      "display_name": "Python 3"
    },
    "language_info": {
      "name": "python"
    }
  },
  "cells": [
    {
      "cell_type": "markdown",
      "metadata": {
        "id": "view-in-github",
        "colab_type": "text"
      },
      "source": [
        "<a href=\"https://colab.research.google.com/github/vivvvek24/Junior-Data-Scientist-Assignment/blob/main/Junior_Data_Scientist_Assignment.ipynb\" target=\"_parent\"><img src=\"https://colab.research.google.com/assets/colab-badge.svg\" alt=\"Open In Colab\"/></a>"
      ]
    },
    {
      "cell_type": "markdown",
      "source": [
        "# **PART 1**\n",
        "\n",
        "Write a regex to extract all the numbers with orange color background from the below text in italics.\n",
        "\n",
        "\n",
        "{\"orders\":[{\"id\":1},{\"id\":2},{\"id\":3},{\"id\":4},{\"id\":5},{\"id\":6},{\"id\":7},{\"id\":8},{\"id\":9},{\"id\":10},{\"id\":11},{\"id\":648},{\"id\":649},{\"id\":650},{\"id\":651},{\"id\":652},{\"id\":653}],\"errors\":[{\"code\":3,\"message\":\"[PHP Warning #2] count(): Parameter must be an array or an object that implements Countable (153)\"}]}\n"
      ],
      "metadata": {
        "id": "2MlWaxSOrKPH"
      }
    },
    {
      "cell_type": "code",
      "source": [
        "data = {\"orders\":[{\"id\":1},{\"id\":2},{\"id\":3},{\"id\":4},{\"id\":5},{\"id\":6},{\"id\":7},{\"id\":8},{\"id\":9},{\"id\":10},{\"id\":11},{\"id\":648},{\"id\":649},{\"id\":650},{\"id\":651},{\"id\":652},{\"id\":653}],\"errors\":[{\"code\":3,\"message\":\"[PHP Warning #2] count(): Parameter must be an array or an object that implements Countable (153)\"}]}"
      ],
      "metadata": {
        "id": "LFOwFWhUsLP5"
      },
      "execution_count": null,
      "outputs": []
    },
    {
      "cell_type": "code",
      "source": [
        "import re\n",
        "\n",
        "class RegEx:\n",
        "    \n",
        "    \n",
        "    def __init__(self, data):\n",
        "        self.data = data\n",
        "        \n",
        "    def extract_number(self):\n",
        "        \"\"\"Method Name: extract_number\n",
        "           Description: It will return all the extracted numbers.\"\"\"\n",
        "        try:\n",
        "            result = re.findall(r'\\s[0-9]+', str(data))\n",
        "            # \\s | Matches whitespace characters, which include the \\t, \\n, \\r, and space characters.\n",
        "            # [0-9] | Matches from 0 to 9.\n",
        "            # + | Greedily matches the expression to its left 1 or more times.\n",
        "            return result\n",
        "        except Exception as e:\n",
        "            print('Error: ', e)"
      ],
      "metadata": {
        "id": "sKvMM5Hpry7h"
      },
      "execution_count": null,
      "outputs": []
    },
    {
      "cell_type": "code",
      "source": [
        "extract = RegEx(data).extract_number()\n",
        "print(extract)"
      ],
      "metadata": {
        "colab": {
          "base_uri": "https://localhost:8080/"
        },
        "id": "mVPMkxhor_oX",
        "outputId": "2a0dca99-386d-40ff-b8aa-12c8efea1209"
      },
      "execution_count": null,
      "outputs": [
        {
          "output_type": "stream",
          "name": "stdout",
          "text": [
            "[' 1', ' 2', ' 3', ' 4', ' 5', ' 6', ' 7', ' 8', ' 9', ' 10', ' 11', ' 648', ' 649', ' 650', ' 651', ' 652', ' 653', ' 3']\n"
          ]
        }
      ]
    },
    {
      "cell_type": "markdown",
      "source": [
        "# **PART 2**"
      ],
      "metadata": {
        "id": "bLfEsQ5vsSck"
      }
    },
    {
      "cell_type": "markdown",
      "source": [
        "**Train a machine learning model that \n",
        "predicts the customer who is going to be checked in.**"
      ],
      "metadata": {
        "id": "UkieKvUAsW-a"
      }
    },
    {
      "cell_type": "code",
      "execution_count": null,
      "metadata": {
        "id": "KMY_zXj-oZNK"
      },
      "outputs": [],
      "source": [
        "#Importing necessary libraries\n",
        "\n",
        "import numpy as np\n",
        "import pandas as pd\n",
        "import seaborn as sns\n",
        "from numpy import math\n",
        "import matplotlib.pyplot as plt\n",
        "from sklearn.svm import SVC\n",
        "from sklearn import metrics\n",
        "from sklearn.preprocessing import StandardScaler\n",
        "from sklearn.model_selection import train_test_split\n",
        "from sklearn.linear_model import LogisticRegression\n",
        "from sklearn.model_selection import GridSearchCV\n",
        "from sklearn.metrics import accuracy_score, recall_score, precision_score, f1_score, roc_auc_score, confusion_matrix, roc_curve\n",
        "\n",
        "import warnings\n",
        "warnings.filterwarnings('ignore')"
      ]
    },
    {
      "cell_type": "code",
      "source": [
        "from google.colab import drive\n",
        "drive.mount('/content/drive')"
      ],
      "metadata": {
        "colab": {
          "base_uri": "https://localhost:8080/"
        },
        "id": "M87uu0pYo3JB",
        "outputId": "674e7971-5522-496d-d1fb-79a0b1cdccd2"
      },
      "execution_count": null,
      "outputs": [
        {
          "output_type": "stream",
          "name": "stdout",
          "text": [
            "Mounted at /content/drive\n"
          ]
        }
      ]
    },
    {
      "cell_type": "code",
      "source": [
        "#changed excel file to csv file\n",
        "df = pd.read_csv('/content/drive/MyDrive/Jr Data Scientist/train_data_evaluation_part_2.csv', index_col=0)"
      ],
      "metadata": {
        "id": "eZqgsJB5pGZY"
      },
      "execution_count": null,
      "outputs": []
    },
    {
      "cell_type": "code",
      "source": [
        "#Viewing top five rows of the dataset\n",
        "df.head()"
      ],
      "metadata": {
        "colab": {
          "base_uri": "https://localhost:8080/",
          "height": 299
        },
        "id": "iUEaR1GbpJqe",
        "outputId": "348df75b-8d22-471b-de8b-90691b9555d6"
      },
      "execution_count": null,
      "outputs": [
        {
          "output_type": "execute_result",
          "data": {
            "text/plain": [
              "   ID Nationality   Age  DaysSinceCreation  AverageLeadTime  LodgingRevenue  \\\n",
              "0   1         PRT  51.0                150               45           371.0   \n",
              "1   2         PRT   NaN               1095               61           280.0   \n",
              "2   3         DEU  31.0               1095                0             0.0   \n",
              "3   4         FRA  60.0               1095               93           240.0   \n",
              "4   5         FRA  51.0               1095                0             0.0   \n",
              "\n",
              "   OtherRevenue  BookingsCanceled  BookingsNoShowed  BookingsCheckedIn  ...  \\\n",
              "0         105.3                 1                 0                  3  ...   \n",
              "1          53.0                 0                 0                  1  ...   \n",
              "2           0.0                 0                 0                  0  ...   \n",
              "3          60.0                 0                 0                  1  ...   \n",
              "4           0.0                 0                 0                  0  ...   \n",
              "\n",
              "   SRMediumFloor  SRBathtub  SRShower  SRCrib SRKingSizeBed SRTwinBed  \\\n",
              "0              0          0         0       0             0         0   \n",
              "1              0          0         0       0             0         0   \n",
              "2              0          0         0       0             0         0   \n",
              "3              0          0         0       0             0         0   \n",
              "4              0          0         0       0             0         0   \n",
              "\n",
              "   SRNearElevator  SRAwayFromElevator  SRNoAlcoholInMiniBar  SRQuietRoom  \n",
              "0               0                   0                     0            0  \n",
              "1               0                   0                     0            0  \n",
              "2               0                   0                     0            0  \n",
              "3               0                   0                     0            0  \n",
              "4               0                   0                     0            0  \n",
              "\n",
              "[5 rows x 29 columns]"
            ],
            "text/html": [
              "\n",
              "  <div id=\"df-ff69b113-a285-4d64-8b49-04cade835ea2\">\n",
              "    <div class=\"colab-df-container\">\n",
              "      <div>\n",
              "<style scoped>\n",
              "    .dataframe tbody tr th:only-of-type {\n",
              "        vertical-align: middle;\n",
              "    }\n",
              "\n",
              "    .dataframe tbody tr th {\n",
              "        vertical-align: top;\n",
              "    }\n",
              "\n",
              "    .dataframe thead th {\n",
              "        text-align: right;\n",
              "    }\n",
              "</style>\n",
              "<table border=\"1\" class=\"dataframe\">\n",
              "  <thead>\n",
              "    <tr style=\"text-align: right;\">\n",
              "      <th></th>\n",
              "      <th>ID</th>\n",
              "      <th>Nationality</th>\n",
              "      <th>Age</th>\n",
              "      <th>DaysSinceCreation</th>\n",
              "      <th>AverageLeadTime</th>\n",
              "      <th>LodgingRevenue</th>\n",
              "      <th>OtherRevenue</th>\n",
              "      <th>BookingsCanceled</th>\n",
              "      <th>BookingsNoShowed</th>\n",
              "      <th>BookingsCheckedIn</th>\n",
              "      <th>...</th>\n",
              "      <th>SRMediumFloor</th>\n",
              "      <th>SRBathtub</th>\n",
              "      <th>SRShower</th>\n",
              "      <th>SRCrib</th>\n",
              "      <th>SRKingSizeBed</th>\n",
              "      <th>SRTwinBed</th>\n",
              "      <th>SRNearElevator</th>\n",
              "      <th>SRAwayFromElevator</th>\n",
              "      <th>SRNoAlcoholInMiniBar</th>\n",
              "      <th>SRQuietRoom</th>\n",
              "    </tr>\n",
              "  </thead>\n",
              "  <tbody>\n",
              "    <tr>\n",
              "      <th>0</th>\n",
              "      <td>1</td>\n",
              "      <td>PRT</td>\n",
              "      <td>51.0</td>\n",
              "      <td>150</td>\n",
              "      <td>45</td>\n",
              "      <td>371.0</td>\n",
              "      <td>105.3</td>\n",
              "      <td>1</td>\n",
              "      <td>0</td>\n",
              "      <td>3</td>\n",
              "      <td>...</td>\n",
              "      <td>0</td>\n",
              "      <td>0</td>\n",
              "      <td>0</td>\n",
              "      <td>0</td>\n",
              "      <td>0</td>\n",
              "      <td>0</td>\n",
              "      <td>0</td>\n",
              "      <td>0</td>\n",
              "      <td>0</td>\n",
              "      <td>0</td>\n",
              "    </tr>\n",
              "    <tr>\n",
              "      <th>1</th>\n",
              "      <td>2</td>\n",
              "      <td>PRT</td>\n",
              "      <td>NaN</td>\n",
              "      <td>1095</td>\n",
              "      <td>61</td>\n",
              "      <td>280.0</td>\n",
              "      <td>53.0</td>\n",
              "      <td>0</td>\n",
              "      <td>0</td>\n",
              "      <td>1</td>\n",
              "      <td>...</td>\n",
              "      <td>0</td>\n",
              "      <td>0</td>\n",
              "      <td>0</td>\n",
              "      <td>0</td>\n",
              "      <td>0</td>\n",
              "      <td>0</td>\n",
              "      <td>0</td>\n",
              "      <td>0</td>\n",
              "      <td>0</td>\n",
              "      <td>0</td>\n",
              "    </tr>\n",
              "    <tr>\n",
              "      <th>2</th>\n",
              "      <td>3</td>\n",
              "      <td>DEU</td>\n",
              "      <td>31.0</td>\n",
              "      <td>1095</td>\n",
              "      <td>0</td>\n",
              "      <td>0.0</td>\n",
              "      <td>0.0</td>\n",
              "      <td>0</td>\n",
              "      <td>0</td>\n",
              "      <td>0</td>\n",
              "      <td>...</td>\n",
              "      <td>0</td>\n",
              "      <td>0</td>\n",
              "      <td>0</td>\n",
              "      <td>0</td>\n",
              "      <td>0</td>\n",
              "      <td>0</td>\n",
              "      <td>0</td>\n",
              "      <td>0</td>\n",
              "      <td>0</td>\n",
              "      <td>0</td>\n",
              "    </tr>\n",
              "    <tr>\n",
              "      <th>3</th>\n",
              "      <td>4</td>\n",
              "      <td>FRA</td>\n",
              "      <td>60.0</td>\n",
              "      <td>1095</td>\n",
              "      <td>93</td>\n",
              "      <td>240.0</td>\n",
              "      <td>60.0</td>\n",
              "      <td>0</td>\n",
              "      <td>0</td>\n",
              "      <td>1</td>\n",
              "      <td>...</td>\n",
              "      <td>0</td>\n",
              "      <td>0</td>\n",
              "      <td>0</td>\n",
              "      <td>0</td>\n",
              "      <td>0</td>\n",
              "      <td>0</td>\n",
              "      <td>0</td>\n",
              "      <td>0</td>\n",
              "      <td>0</td>\n",
              "      <td>0</td>\n",
              "    </tr>\n",
              "    <tr>\n",
              "      <th>4</th>\n",
              "      <td>5</td>\n",
              "      <td>FRA</td>\n",
              "      <td>51.0</td>\n",
              "      <td>1095</td>\n",
              "      <td>0</td>\n",
              "      <td>0.0</td>\n",
              "      <td>0.0</td>\n",
              "      <td>0</td>\n",
              "      <td>0</td>\n",
              "      <td>0</td>\n",
              "      <td>...</td>\n",
              "      <td>0</td>\n",
              "      <td>0</td>\n",
              "      <td>0</td>\n",
              "      <td>0</td>\n",
              "      <td>0</td>\n",
              "      <td>0</td>\n",
              "      <td>0</td>\n",
              "      <td>0</td>\n",
              "      <td>0</td>\n",
              "      <td>0</td>\n",
              "    </tr>\n",
              "  </tbody>\n",
              "</table>\n",
              "<p>5 rows × 29 columns</p>\n",
              "</div>\n",
              "      <button class=\"colab-df-convert\" onclick=\"convertToInteractive('df-ff69b113-a285-4d64-8b49-04cade835ea2')\"\n",
              "              title=\"Convert this dataframe to an interactive table.\"\n",
              "              style=\"display:none;\">\n",
              "        \n",
              "  <svg xmlns=\"http://www.w3.org/2000/svg\" height=\"24px\"viewBox=\"0 0 24 24\"\n",
              "       width=\"24px\">\n",
              "    <path d=\"M0 0h24v24H0V0z\" fill=\"none\"/>\n",
              "    <path d=\"M18.56 5.44l.94 2.06.94-2.06 2.06-.94-2.06-.94-.94-2.06-.94 2.06-2.06.94zm-11 1L8.5 8.5l.94-2.06 2.06-.94-2.06-.94L8.5 2.5l-.94 2.06-2.06.94zm10 10l.94 2.06.94-2.06 2.06-.94-2.06-.94-.94-2.06-.94 2.06-2.06.94z\"/><path d=\"M17.41 7.96l-1.37-1.37c-.4-.4-.92-.59-1.43-.59-.52 0-1.04.2-1.43.59L10.3 9.45l-7.72 7.72c-.78.78-.78 2.05 0 2.83L4 21.41c.39.39.9.59 1.41.59.51 0 1.02-.2 1.41-.59l7.78-7.78 2.81-2.81c.8-.78.8-2.07 0-2.86zM5.41 20L4 18.59l7.72-7.72 1.47 1.35L5.41 20z\"/>\n",
              "  </svg>\n",
              "      </button>\n",
              "      \n",
              "  <style>\n",
              "    .colab-df-container {\n",
              "      display:flex;\n",
              "      flex-wrap:wrap;\n",
              "      gap: 12px;\n",
              "    }\n",
              "\n",
              "    .colab-df-convert {\n",
              "      background-color: #E8F0FE;\n",
              "      border: none;\n",
              "      border-radius: 50%;\n",
              "      cursor: pointer;\n",
              "      display: none;\n",
              "      fill: #1967D2;\n",
              "      height: 32px;\n",
              "      padding: 0 0 0 0;\n",
              "      width: 32px;\n",
              "    }\n",
              "\n",
              "    .colab-df-convert:hover {\n",
              "      background-color: #E2EBFA;\n",
              "      box-shadow: 0px 1px 2px rgba(60, 64, 67, 0.3), 0px 1px 3px 1px rgba(60, 64, 67, 0.15);\n",
              "      fill: #174EA6;\n",
              "    }\n",
              "\n",
              "    [theme=dark] .colab-df-convert {\n",
              "      background-color: #3B4455;\n",
              "      fill: #D2E3FC;\n",
              "    }\n",
              "\n",
              "    [theme=dark] .colab-df-convert:hover {\n",
              "      background-color: #434B5C;\n",
              "      box-shadow: 0px 1px 3px 1px rgba(0, 0, 0, 0.15);\n",
              "      filter: drop-shadow(0px 1px 2px rgba(0, 0, 0, 0.3));\n",
              "      fill: #FFFFFF;\n",
              "    }\n",
              "  </style>\n",
              "\n",
              "      <script>\n",
              "        const buttonEl =\n",
              "          document.querySelector('#df-ff69b113-a285-4d64-8b49-04cade835ea2 button.colab-df-convert');\n",
              "        buttonEl.style.display =\n",
              "          google.colab.kernel.accessAllowed ? 'block' : 'none';\n",
              "\n",
              "        async function convertToInteractive(key) {\n",
              "          const element = document.querySelector('#df-ff69b113-a285-4d64-8b49-04cade835ea2');\n",
              "          const dataTable =\n",
              "            await google.colab.kernel.invokeFunction('convertToInteractive',\n",
              "                                                     [key], {});\n",
              "          if (!dataTable) return;\n",
              "\n",
              "          const docLinkHtml = 'Like what you see? Visit the ' +\n",
              "            '<a target=\"_blank\" href=https://colab.research.google.com/notebooks/data_table.ipynb>data table notebook</a>'\n",
              "            + ' to learn more about interactive tables.';\n",
              "          element.innerHTML = '';\n",
              "          dataTable['output_type'] = 'display_data';\n",
              "          await google.colab.output.renderOutput(dataTable, element);\n",
              "          const docLink = document.createElement('div');\n",
              "          docLink.innerHTML = docLinkHtml;\n",
              "          element.appendChild(docLink);\n",
              "        }\n",
              "      </script>\n",
              "    </div>\n",
              "  </div>\n",
              "  "
            ]
          },
          "metadata": {},
          "execution_count": 4
        }
      ]
    },
    {
      "cell_type": "markdown",
      "source": [
        "# **Checking description of data.**"
      ],
      "metadata": {
        "id": "kQ9uPAYGpPqZ"
      }
    },
    {
      "cell_type": "code",
      "source": [
        "#Checking the shape of the dataset\n",
        "df.shape"
      ],
      "metadata": {
        "colab": {
          "base_uri": "https://localhost:8080/"
        },
        "id": "SVu6yr6bpM4O",
        "outputId": "b6f4ab27-9eb2-4c7e-fdbd-221e22e94c21"
      },
      "execution_count": null,
      "outputs": [
        {
          "output_type": "execute_result",
          "data": {
            "text/plain": [
              "(82580, 29)"
            ]
          },
          "metadata": {},
          "execution_count": 5
        }
      ]
    },
    {
      "cell_type": "code",
      "source": [
        "#summary of dataset\n",
        "df.describe().T"
      ],
      "metadata": {
        "colab": {
          "base_uri": "https://localhost:8080/",
          "height": 864
        },
        "id": "uNuIN6a1pWy3",
        "outputId": "954e3cab-6de0-4064-8596-fb36f3a23f2c"
      },
      "execution_count": null,
      "outputs": [
        {
          "output_type": "execute_result",
          "data": {
            "text/plain": [
              "                        count          mean           std   min       25%  \\\n",
              "ID                    82580.0  41290.500000  23838.936952   1.0  20645.75   \n",
              "Age                   78834.0     45.468554     16.526276 -11.0     34.00   \n",
              "DaysSinceCreation     82580.0    459.138157    311.309295  12.0    183.00   \n",
              "AverageLeadTime       82580.0     66.557205     87.928995  -1.0      0.00   \n",
              "LodgingRevenue        82580.0    300.457373    373.337007   0.0     66.40   \n",
              "OtherRevenue          82580.0     67.890023    114.496223   0.0      2.00   \n",
              "BookingsCanceled      82580.0      0.002047      0.067177   0.0      0.00   \n",
              "BookingsNoShowed      82580.0      0.000642      0.029725   0.0      0.00   \n",
              "BookingsCheckedIn     82580.0      0.798402      0.696880   0.0      1.00   \n",
              "PersonsNights         82580.0      4.667958      4.562507   0.0      1.00   \n",
              "RoomNights            82580.0      2.369411      2.281758   0.0      1.00   \n",
              "DaysSinceLastStay     82580.0    405.935457    346.502341  -1.0     42.00   \n",
              "DaysSinceFirstStay    82580.0    408.245071    347.247127  -1.0     44.00   \n",
              "SRHighFloor           82580.0      0.047518      0.212744   0.0      0.00   \n",
              "SRLowFloor            82580.0      0.001429      0.037774   0.0      0.00   \n",
              "SRAccessibleRoom      82580.0      0.000254      0.015945   0.0      0.00   \n",
              "SRMediumFloor         82580.0      0.000884      0.029719   0.0      0.00   \n",
              "SRBathtub             82580.0      0.002809      0.052930   0.0      0.00   \n",
              "SRShower              82580.0      0.001732      0.041577   0.0      0.00   \n",
              "SRCrib                82580.0      0.012812      0.112463   0.0      0.00   \n",
              "SRKingSizeBed         82580.0      0.351671      0.477495   0.0      0.00   \n",
              "SRTwinBed             82580.0      0.142771      0.349841   0.0      0.00   \n",
              "SRNearElevator        82580.0      0.000303      0.017397   0.0      0.00   \n",
              "SRAwayFromElevator    82580.0      0.003548      0.059460   0.0      0.00   \n",
              "SRNoAlcoholInMiniBar  82580.0      0.000121      0.011004   0.0      0.00   \n",
              "SRQuietRoom           82580.0      0.088060      0.283384   0.0      0.00   \n",
              "\n",
              "                          50%       75%       max  \n",
              "ID                    41290.5  61935.25  82580.00  \n",
              "Age                      46.0     57.00    122.00  \n",
              "DaysSinceCreation       406.0    728.00   1095.00  \n",
              "AverageLeadTime          30.0    104.00    588.00  \n",
              "LodgingRevenue          234.0    403.80  21781.00  \n",
              "OtherRevenue             39.0     88.00   7730.25  \n",
              "BookingsCanceled          0.0      0.00      9.00  \n",
              "BookingsNoShowed          0.0      0.00      3.00  \n",
              "BookingsCheckedIn         1.0      1.00     66.00  \n",
              "PersonsNights             4.0      7.00    116.00  \n",
              "RoomNights                2.0      4.00    185.00  \n",
              "DaysSinceLastStay       378.0    698.00   1104.00  \n",
              "DaysSinceFirstStay      388.0    705.00   1186.00  \n",
              "SRHighFloor               0.0      0.00      1.00  \n",
              "SRLowFloor                0.0      0.00      1.00  \n",
              "SRAccessibleRoom          0.0      0.00      1.00  \n",
              "SRMediumFloor             0.0      0.00      1.00  \n",
              "SRBathtub                 0.0      0.00      1.00  \n",
              "SRShower                  0.0      0.00      1.00  \n",
              "SRCrib                    0.0      0.00      1.00  \n",
              "SRKingSizeBed             0.0      1.00      1.00  \n",
              "SRTwinBed                 0.0      0.00      1.00  \n",
              "SRNearElevator            0.0      0.00      1.00  \n",
              "SRAwayFromElevator        0.0      0.00      1.00  \n",
              "SRNoAlcoholInMiniBar      0.0      0.00      1.00  \n",
              "SRQuietRoom               0.0      0.00      1.00  "
            ],
            "text/html": [
              "\n",
              "  <div id=\"df-7540443f-1273-4cb7-909e-14755524dc7b\">\n",
              "    <div class=\"colab-df-container\">\n",
              "      <div>\n",
              "<style scoped>\n",
              "    .dataframe tbody tr th:only-of-type {\n",
              "        vertical-align: middle;\n",
              "    }\n",
              "\n",
              "    .dataframe tbody tr th {\n",
              "        vertical-align: top;\n",
              "    }\n",
              "\n",
              "    .dataframe thead th {\n",
              "        text-align: right;\n",
              "    }\n",
              "</style>\n",
              "<table border=\"1\" class=\"dataframe\">\n",
              "  <thead>\n",
              "    <tr style=\"text-align: right;\">\n",
              "      <th></th>\n",
              "      <th>count</th>\n",
              "      <th>mean</th>\n",
              "      <th>std</th>\n",
              "      <th>min</th>\n",
              "      <th>25%</th>\n",
              "      <th>50%</th>\n",
              "      <th>75%</th>\n",
              "      <th>max</th>\n",
              "    </tr>\n",
              "  </thead>\n",
              "  <tbody>\n",
              "    <tr>\n",
              "      <th>ID</th>\n",
              "      <td>82580.0</td>\n",
              "      <td>41290.500000</td>\n",
              "      <td>23838.936952</td>\n",
              "      <td>1.0</td>\n",
              "      <td>20645.75</td>\n",
              "      <td>41290.5</td>\n",
              "      <td>61935.25</td>\n",
              "      <td>82580.00</td>\n",
              "    </tr>\n",
              "    <tr>\n",
              "      <th>Age</th>\n",
              "      <td>78834.0</td>\n",
              "      <td>45.468554</td>\n",
              "      <td>16.526276</td>\n",
              "      <td>-11.0</td>\n",
              "      <td>34.00</td>\n",
              "      <td>46.0</td>\n",
              "      <td>57.00</td>\n",
              "      <td>122.00</td>\n",
              "    </tr>\n",
              "    <tr>\n",
              "      <th>DaysSinceCreation</th>\n",
              "      <td>82580.0</td>\n",
              "      <td>459.138157</td>\n",
              "      <td>311.309295</td>\n",
              "      <td>12.0</td>\n",
              "      <td>183.00</td>\n",
              "      <td>406.0</td>\n",
              "      <td>728.00</td>\n",
              "      <td>1095.00</td>\n",
              "    </tr>\n",
              "    <tr>\n",
              "      <th>AverageLeadTime</th>\n",
              "      <td>82580.0</td>\n",
              "      <td>66.557205</td>\n",
              "      <td>87.928995</td>\n",
              "      <td>-1.0</td>\n",
              "      <td>0.00</td>\n",
              "      <td>30.0</td>\n",
              "      <td>104.00</td>\n",
              "      <td>588.00</td>\n",
              "    </tr>\n",
              "    <tr>\n",
              "      <th>LodgingRevenue</th>\n",
              "      <td>82580.0</td>\n",
              "      <td>300.457373</td>\n",
              "      <td>373.337007</td>\n",
              "      <td>0.0</td>\n",
              "      <td>66.40</td>\n",
              "      <td>234.0</td>\n",
              "      <td>403.80</td>\n",
              "      <td>21781.00</td>\n",
              "    </tr>\n",
              "    <tr>\n",
              "      <th>OtherRevenue</th>\n",
              "      <td>82580.0</td>\n",
              "      <td>67.890023</td>\n",
              "      <td>114.496223</td>\n",
              "      <td>0.0</td>\n",
              "      <td>2.00</td>\n",
              "      <td>39.0</td>\n",
              "      <td>88.00</td>\n",
              "      <td>7730.25</td>\n",
              "    </tr>\n",
              "    <tr>\n",
              "      <th>BookingsCanceled</th>\n",
              "      <td>82580.0</td>\n",
              "      <td>0.002047</td>\n",
              "      <td>0.067177</td>\n",
              "      <td>0.0</td>\n",
              "      <td>0.00</td>\n",
              "      <td>0.0</td>\n",
              "      <td>0.00</td>\n",
              "      <td>9.00</td>\n",
              "    </tr>\n",
              "    <tr>\n",
              "      <th>BookingsNoShowed</th>\n",
              "      <td>82580.0</td>\n",
              "      <td>0.000642</td>\n",
              "      <td>0.029725</td>\n",
              "      <td>0.0</td>\n",
              "      <td>0.00</td>\n",
              "      <td>0.0</td>\n",
              "      <td>0.00</td>\n",
              "      <td>3.00</td>\n",
              "    </tr>\n",
              "    <tr>\n",
              "      <th>BookingsCheckedIn</th>\n",
              "      <td>82580.0</td>\n",
              "      <td>0.798402</td>\n",
              "      <td>0.696880</td>\n",
              "      <td>0.0</td>\n",
              "      <td>1.00</td>\n",
              "      <td>1.0</td>\n",
              "      <td>1.00</td>\n",
              "      <td>66.00</td>\n",
              "    </tr>\n",
              "    <tr>\n",
              "      <th>PersonsNights</th>\n",
              "      <td>82580.0</td>\n",
              "      <td>4.667958</td>\n",
              "      <td>4.562507</td>\n",
              "      <td>0.0</td>\n",
              "      <td>1.00</td>\n",
              "      <td>4.0</td>\n",
              "      <td>7.00</td>\n",
              "      <td>116.00</td>\n",
              "    </tr>\n",
              "    <tr>\n",
              "      <th>RoomNights</th>\n",
              "      <td>82580.0</td>\n",
              "      <td>2.369411</td>\n",
              "      <td>2.281758</td>\n",
              "      <td>0.0</td>\n",
              "      <td>1.00</td>\n",
              "      <td>2.0</td>\n",
              "      <td>4.00</td>\n",
              "      <td>185.00</td>\n",
              "    </tr>\n",
              "    <tr>\n",
              "      <th>DaysSinceLastStay</th>\n",
              "      <td>82580.0</td>\n",
              "      <td>405.935457</td>\n",
              "      <td>346.502341</td>\n",
              "      <td>-1.0</td>\n",
              "      <td>42.00</td>\n",
              "      <td>378.0</td>\n",
              "      <td>698.00</td>\n",
              "      <td>1104.00</td>\n",
              "    </tr>\n",
              "    <tr>\n",
              "      <th>DaysSinceFirstStay</th>\n",
              "      <td>82580.0</td>\n",
              "      <td>408.245071</td>\n",
              "      <td>347.247127</td>\n",
              "      <td>-1.0</td>\n",
              "      <td>44.00</td>\n",
              "      <td>388.0</td>\n",
              "      <td>705.00</td>\n",
              "      <td>1186.00</td>\n",
              "    </tr>\n",
              "    <tr>\n",
              "      <th>SRHighFloor</th>\n",
              "      <td>82580.0</td>\n",
              "      <td>0.047518</td>\n",
              "      <td>0.212744</td>\n",
              "      <td>0.0</td>\n",
              "      <td>0.00</td>\n",
              "      <td>0.0</td>\n",
              "      <td>0.00</td>\n",
              "      <td>1.00</td>\n",
              "    </tr>\n",
              "    <tr>\n",
              "      <th>SRLowFloor</th>\n",
              "      <td>82580.0</td>\n",
              "      <td>0.001429</td>\n",
              "      <td>0.037774</td>\n",
              "      <td>0.0</td>\n",
              "      <td>0.00</td>\n",
              "      <td>0.0</td>\n",
              "      <td>0.00</td>\n",
              "      <td>1.00</td>\n",
              "    </tr>\n",
              "    <tr>\n",
              "      <th>SRAccessibleRoom</th>\n",
              "      <td>82580.0</td>\n",
              "      <td>0.000254</td>\n",
              "      <td>0.015945</td>\n",
              "      <td>0.0</td>\n",
              "      <td>0.00</td>\n",
              "      <td>0.0</td>\n",
              "      <td>0.00</td>\n",
              "      <td>1.00</td>\n",
              "    </tr>\n",
              "    <tr>\n",
              "      <th>SRMediumFloor</th>\n",
              "      <td>82580.0</td>\n",
              "      <td>0.000884</td>\n",
              "      <td>0.029719</td>\n",
              "      <td>0.0</td>\n",
              "      <td>0.00</td>\n",
              "      <td>0.0</td>\n",
              "      <td>0.00</td>\n",
              "      <td>1.00</td>\n",
              "    </tr>\n",
              "    <tr>\n",
              "      <th>SRBathtub</th>\n",
              "      <td>82580.0</td>\n",
              "      <td>0.002809</td>\n",
              "      <td>0.052930</td>\n",
              "      <td>0.0</td>\n",
              "      <td>0.00</td>\n",
              "      <td>0.0</td>\n",
              "      <td>0.00</td>\n",
              "      <td>1.00</td>\n",
              "    </tr>\n",
              "    <tr>\n",
              "      <th>SRShower</th>\n",
              "      <td>82580.0</td>\n",
              "      <td>0.001732</td>\n",
              "      <td>0.041577</td>\n",
              "      <td>0.0</td>\n",
              "      <td>0.00</td>\n",
              "      <td>0.0</td>\n",
              "      <td>0.00</td>\n",
              "      <td>1.00</td>\n",
              "    </tr>\n",
              "    <tr>\n",
              "      <th>SRCrib</th>\n",
              "      <td>82580.0</td>\n",
              "      <td>0.012812</td>\n",
              "      <td>0.112463</td>\n",
              "      <td>0.0</td>\n",
              "      <td>0.00</td>\n",
              "      <td>0.0</td>\n",
              "      <td>0.00</td>\n",
              "      <td>1.00</td>\n",
              "    </tr>\n",
              "    <tr>\n",
              "      <th>SRKingSizeBed</th>\n",
              "      <td>82580.0</td>\n",
              "      <td>0.351671</td>\n",
              "      <td>0.477495</td>\n",
              "      <td>0.0</td>\n",
              "      <td>0.00</td>\n",
              "      <td>0.0</td>\n",
              "      <td>1.00</td>\n",
              "      <td>1.00</td>\n",
              "    </tr>\n",
              "    <tr>\n",
              "      <th>SRTwinBed</th>\n",
              "      <td>82580.0</td>\n",
              "      <td>0.142771</td>\n",
              "      <td>0.349841</td>\n",
              "      <td>0.0</td>\n",
              "      <td>0.00</td>\n",
              "      <td>0.0</td>\n",
              "      <td>0.00</td>\n",
              "      <td>1.00</td>\n",
              "    </tr>\n",
              "    <tr>\n",
              "      <th>SRNearElevator</th>\n",
              "      <td>82580.0</td>\n",
              "      <td>0.000303</td>\n",
              "      <td>0.017397</td>\n",
              "      <td>0.0</td>\n",
              "      <td>0.00</td>\n",
              "      <td>0.0</td>\n",
              "      <td>0.00</td>\n",
              "      <td>1.00</td>\n",
              "    </tr>\n",
              "    <tr>\n",
              "      <th>SRAwayFromElevator</th>\n",
              "      <td>82580.0</td>\n",
              "      <td>0.003548</td>\n",
              "      <td>0.059460</td>\n",
              "      <td>0.0</td>\n",
              "      <td>0.00</td>\n",
              "      <td>0.0</td>\n",
              "      <td>0.00</td>\n",
              "      <td>1.00</td>\n",
              "    </tr>\n",
              "    <tr>\n",
              "      <th>SRNoAlcoholInMiniBar</th>\n",
              "      <td>82580.0</td>\n",
              "      <td>0.000121</td>\n",
              "      <td>0.011004</td>\n",
              "      <td>0.0</td>\n",
              "      <td>0.00</td>\n",
              "      <td>0.0</td>\n",
              "      <td>0.00</td>\n",
              "      <td>1.00</td>\n",
              "    </tr>\n",
              "    <tr>\n",
              "      <th>SRQuietRoom</th>\n",
              "      <td>82580.0</td>\n",
              "      <td>0.088060</td>\n",
              "      <td>0.283384</td>\n",
              "      <td>0.0</td>\n",
              "      <td>0.00</td>\n",
              "      <td>0.0</td>\n",
              "      <td>0.00</td>\n",
              "      <td>1.00</td>\n",
              "    </tr>\n",
              "  </tbody>\n",
              "</table>\n",
              "</div>\n",
              "      <button class=\"colab-df-convert\" onclick=\"convertToInteractive('df-7540443f-1273-4cb7-909e-14755524dc7b')\"\n",
              "              title=\"Convert this dataframe to an interactive table.\"\n",
              "              style=\"display:none;\">\n",
              "        \n",
              "  <svg xmlns=\"http://www.w3.org/2000/svg\" height=\"24px\"viewBox=\"0 0 24 24\"\n",
              "       width=\"24px\">\n",
              "    <path d=\"M0 0h24v24H0V0z\" fill=\"none\"/>\n",
              "    <path d=\"M18.56 5.44l.94 2.06.94-2.06 2.06-.94-2.06-.94-.94-2.06-.94 2.06-2.06.94zm-11 1L8.5 8.5l.94-2.06 2.06-.94-2.06-.94L8.5 2.5l-.94 2.06-2.06.94zm10 10l.94 2.06.94-2.06 2.06-.94-2.06-.94-.94-2.06-.94 2.06-2.06.94z\"/><path d=\"M17.41 7.96l-1.37-1.37c-.4-.4-.92-.59-1.43-.59-.52 0-1.04.2-1.43.59L10.3 9.45l-7.72 7.72c-.78.78-.78 2.05 0 2.83L4 21.41c.39.39.9.59 1.41.59.51 0 1.02-.2 1.41-.59l7.78-7.78 2.81-2.81c.8-.78.8-2.07 0-2.86zM5.41 20L4 18.59l7.72-7.72 1.47 1.35L5.41 20z\"/>\n",
              "  </svg>\n",
              "      </button>\n",
              "      \n",
              "  <style>\n",
              "    .colab-df-container {\n",
              "      display:flex;\n",
              "      flex-wrap:wrap;\n",
              "      gap: 12px;\n",
              "    }\n",
              "\n",
              "    .colab-df-convert {\n",
              "      background-color: #E8F0FE;\n",
              "      border: none;\n",
              "      border-radius: 50%;\n",
              "      cursor: pointer;\n",
              "      display: none;\n",
              "      fill: #1967D2;\n",
              "      height: 32px;\n",
              "      padding: 0 0 0 0;\n",
              "      width: 32px;\n",
              "    }\n",
              "\n",
              "    .colab-df-convert:hover {\n",
              "      background-color: #E2EBFA;\n",
              "      box-shadow: 0px 1px 2px rgba(60, 64, 67, 0.3), 0px 1px 3px 1px rgba(60, 64, 67, 0.15);\n",
              "      fill: #174EA6;\n",
              "    }\n",
              "\n",
              "    [theme=dark] .colab-df-convert {\n",
              "      background-color: #3B4455;\n",
              "      fill: #D2E3FC;\n",
              "    }\n",
              "\n",
              "    [theme=dark] .colab-df-convert:hover {\n",
              "      background-color: #434B5C;\n",
              "      box-shadow: 0px 1px 3px 1px rgba(0, 0, 0, 0.15);\n",
              "      filter: drop-shadow(0px 1px 2px rgba(0, 0, 0, 0.3));\n",
              "      fill: #FFFFFF;\n",
              "    }\n",
              "  </style>\n",
              "\n",
              "      <script>\n",
              "        const buttonEl =\n",
              "          document.querySelector('#df-7540443f-1273-4cb7-909e-14755524dc7b button.colab-df-convert');\n",
              "        buttonEl.style.display =\n",
              "          google.colab.kernel.accessAllowed ? 'block' : 'none';\n",
              "\n",
              "        async function convertToInteractive(key) {\n",
              "          const element = document.querySelector('#df-7540443f-1273-4cb7-909e-14755524dc7b');\n",
              "          const dataTable =\n",
              "            await google.colab.kernel.invokeFunction('convertToInteractive',\n",
              "                                                     [key], {});\n",
              "          if (!dataTable) return;\n",
              "\n",
              "          const docLinkHtml = 'Like what you see? Visit the ' +\n",
              "            '<a target=\"_blank\" href=https://colab.research.google.com/notebooks/data_table.ipynb>data table notebook</a>'\n",
              "            + ' to learn more about interactive tables.';\n",
              "          element.innerHTML = '';\n",
              "          dataTable['output_type'] = 'display_data';\n",
              "          await google.colab.output.renderOutput(dataTable, element);\n",
              "          const docLink = document.createElement('div');\n",
              "          docLink.innerHTML = docLinkHtml;\n",
              "          element.appendChild(docLink);\n",
              "        }\n",
              "      </script>\n",
              "    </div>\n",
              "  </div>\n",
              "  "
            ]
          },
          "metadata": {},
          "execution_count": 6
        }
      ]
    },
    {
      "cell_type": "code",
      "source": [
        "#basic information of datset\n",
        "df.info()"
      ],
      "metadata": {
        "colab": {
          "base_uri": "https://localhost:8080/"
        },
        "id": "f4kowuB5pkDe",
        "outputId": "18204859-7110-40d6-dbed-1b01e29ae4ed"
      },
      "execution_count": null,
      "outputs": [
        {
          "output_type": "stream",
          "name": "stdout",
          "text": [
            "<class 'pandas.core.frame.DataFrame'>\n",
            "Int64Index: 82580 entries, 0 to 82579\n",
            "Data columns (total 29 columns):\n",
            " #   Column                Non-Null Count  Dtype  \n",
            "---  ------                --------------  -----  \n",
            " 0   ID                    82580 non-null  int64  \n",
            " 1   Nationality           82580 non-null  object \n",
            " 2   Age                   78834 non-null  float64\n",
            " 3   DaysSinceCreation     82580 non-null  int64  \n",
            " 4   AverageLeadTime       82580 non-null  int64  \n",
            " 5   LodgingRevenue        82580 non-null  float64\n",
            " 6   OtherRevenue          82580 non-null  float64\n",
            " 7   BookingsCanceled      82580 non-null  int64  \n",
            " 8   BookingsNoShowed      82580 non-null  int64  \n",
            " 9   BookingsCheckedIn     82580 non-null  int64  \n",
            " 10  PersonsNights         82580 non-null  int64  \n",
            " 11  RoomNights            82580 non-null  int64  \n",
            " 12  DaysSinceLastStay     82580 non-null  int64  \n",
            " 13  DaysSinceFirstStay    82580 non-null  int64  \n",
            " 14  DistributionChannel   82580 non-null  object \n",
            " 15  MarketSegment         82580 non-null  object \n",
            " 16  SRHighFloor           82580 non-null  int64  \n",
            " 17  SRLowFloor            82580 non-null  int64  \n",
            " 18  SRAccessibleRoom      82580 non-null  int64  \n",
            " 19  SRMediumFloor         82580 non-null  int64  \n",
            " 20  SRBathtub             82580 non-null  int64  \n",
            " 21  SRShower              82580 non-null  int64  \n",
            " 22  SRCrib                82580 non-null  int64  \n",
            " 23  SRKingSizeBed         82580 non-null  int64  \n",
            " 24  SRTwinBed             82580 non-null  int64  \n",
            " 25  SRNearElevator        82580 non-null  int64  \n",
            " 26  SRAwayFromElevator    82580 non-null  int64  \n",
            " 27  SRNoAlcoholInMiniBar  82580 non-null  int64  \n",
            " 28  SRQuietRoom           82580 non-null  int64  \n",
            "dtypes: float64(3), int64(23), object(3)\n",
            "memory usage: 18.9+ MB\n"
          ]
        }
      ]
    },
    {
      "cell_type": "markdown",
      "source": [
        "# **Data Cleaning**"
      ],
      "metadata": {
        "id": "uzB2D1c0pprW"
      }
    },
    {
      "cell_type": "markdown",
      "source": [
        "**Checking for null values**"
      ],
      "metadata": {
        "id": "cW39AtY0pt2c"
      }
    },
    {
      "cell_type": "code",
      "source": [
        "#checking for null values in dataset\n",
        "df.isnull().sum()\n",
        "df.isna().sum()"
      ],
      "metadata": {
        "colab": {
          "base_uri": "https://localhost:8080/"
        },
        "id": "FGID6qp7poEe",
        "outputId": "d36a6448-f513-49dc-8b24-b82d0df5bcde"
      },
      "execution_count": null,
      "outputs": [
        {
          "output_type": "execute_result",
          "data": {
            "text/plain": [
              "ID                         0\n",
              "Nationality                0\n",
              "Age                     3746\n",
              "DaysSinceCreation          0\n",
              "AverageLeadTime            0\n",
              "LodgingRevenue             0\n",
              "OtherRevenue               0\n",
              "BookingsCanceled           0\n",
              "BookingsNoShowed           0\n",
              "BookingsCheckedIn          0\n",
              "PersonsNights              0\n",
              "RoomNights                 0\n",
              "DaysSinceLastStay          0\n",
              "DaysSinceFirstStay         0\n",
              "DistributionChannel        0\n",
              "MarketSegment              0\n",
              "SRHighFloor                0\n",
              "SRLowFloor                 0\n",
              "SRAccessibleRoom           0\n",
              "SRMediumFloor              0\n",
              "SRBathtub                  0\n",
              "SRShower                   0\n",
              "SRCrib                     0\n",
              "SRKingSizeBed              0\n",
              "SRTwinBed                  0\n",
              "SRNearElevator             0\n",
              "SRAwayFromElevator         0\n",
              "SRNoAlcoholInMiniBar       0\n",
              "SRQuietRoom                0\n",
              "dtype: int64"
            ]
          },
          "metadata": {},
          "execution_count": 8
        }
      ]
    },
    {
      "cell_type": "code",
      "source": [
        "#dropping null values\n",
        "df.dropna(inplace=True)"
      ],
      "metadata": {
        "id": "txwlyIApp1uD"
      },
      "execution_count": null,
      "outputs": []
    },
    {
      "cell_type": "code",
      "source": [
        "#checking for missing values\n",
        "df.isnull().sum()"
      ],
      "metadata": {
        "colab": {
          "base_uri": "https://localhost:8080/"
        },
        "id": "63UsCIFMp3P7",
        "outputId": "9389fd72-0fb5-477e-bbb0-a5fd54358cca"
      },
      "execution_count": null,
      "outputs": [
        {
          "output_type": "execute_result",
          "data": {
            "text/plain": [
              "ID                      0\n",
              "Nationality             0\n",
              "Age                     0\n",
              "DaysSinceCreation       0\n",
              "AverageLeadTime         0\n",
              "LodgingRevenue          0\n",
              "OtherRevenue            0\n",
              "BookingsCanceled        0\n",
              "BookingsNoShowed        0\n",
              "BookingsCheckedIn       0\n",
              "PersonsNights           0\n",
              "RoomNights              0\n",
              "DaysSinceLastStay       0\n",
              "DaysSinceFirstStay      0\n",
              "DistributionChannel     0\n",
              "MarketSegment           0\n",
              "SRHighFloor             0\n",
              "SRLowFloor              0\n",
              "SRAccessibleRoom        0\n",
              "SRMediumFloor           0\n",
              "SRBathtub               0\n",
              "SRShower                0\n",
              "SRCrib                  0\n",
              "SRKingSizeBed           0\n",
              "SRTwinBed               0\n",
              "SRNearElevator          0\n",
              "SRAwayFromElevator      0\n",
              "SRNoAlcoholInMiniBar    0\n",
              "SRQuietRoom             0\n",
              "dtype: int64"
            ]
          },
          "metadata": {},
          "execution_count": 10
        }
      ]
    },
    {
      "cell_type": "code",
      "source": [
        "#checking for any duplicates\n",
        "len(df[df.duplicated()])"
      ],
      "metadata": {
        "colab": {
          "base_uri": "https://localhost:8080/"
        },
        "id": "nMpu0547p8Uf",
        "outputId": "99b52a9b-b6f5-429a-f153-527d1e0938f0"
      },
      "execution_count": null,
      "outputs": [
        {
          "output_type": "execute_result",
          "data": {
            "text/plain": [
              "0"
            ]
          },
          "metadata": {},
          "execution_count": 11
        }
      ]
    },
    {
      "cell_type": "code",
      "source": [
        "df.replace({'BookingsCheckedIn' : {1 : 'Yes', 2 : 'Yes',3 : 'Yes',4 : 'Yes',5 : 'Yes',6 : 'Yes',7 : 'Yes',8 : 'Yes',9 : 'Yes',10 : 'Yes',11 : 'Yes',12 : 'Yes',13 : 'Yes',14 : 'Yes',15 : 'Yes',17 : 'Yes',18 : 'Yes',20 : 'Yes',23: 'Yes',24 : 'Yes',25 : 'Yes',26 : 'Yes',29 : 'Yes',34: 'Yes',40 : 'Yes',57 : 'Yes',66 : 'Yes', 0 : 'No'}}, inplace = True)"
      ],
      "metadata": {
        "id": "OoDrQoMDp9wB"
      },
      "execution_count": null,
      "outputs": []
    },
    {
      "cell_type": "code",
      "source": [
        "#Checking value counts of BookingsCheckedIn\n",
        "df['BookingsCheckedIn'].value_counts()"
      ],
      "metadata": {
        "colab": {
          "base_uri": "https://localhost:8080/"
        },
        "id": "6S2MLnsvqEk0",
        "outputId": "9f99d504-102b-498c-8891-d22a5435c628"
      },
      "execution_count": null,
      "outputs": [
        {
          "output_type": "execute_result",
          "data": {
            "text/plain": [
              "Yes    60263\n",
              "No     18571\n",
              "Name: BookingsCheckedIn, dtype: int64"
            ]
          },
          "metadata": {},
          "execution_count": 13
        }
      ]
    },
    {
      "cell_type": "code",
      "source": [
        "#values count plot of BookingsCheckedIn\n",
        "plt.figure(figsize=(5,5))\n",
        "sns.countplot(x = 'BookingsCheckedIn', data = df, palette= \"Set1\")\n",
        "plt.show()"
      ],
      "metadata": {
        "colab": {
          "base_uri": "https://localhost:8080/",
          "height": 334
        },
        "id": "d2TaOCf4qH2A",
        "outputId": "e6122d2f-80bb-4417-828e-a4f5af59277e"
      },
      "execution_count": null,
      "outputs": [
        {
          "output_type": "display_data",
          "data": {
            "text/plain": [
              "<Figure size 360x360 with 1 Axes>"
            ],
            "image/png": "[encoded data removed]"
          },
          "metadata": {
            "needs_background": "light"
          }
        }
      ]
    },
    {
      "cell_type": "markdown",
      "source": [
        "**Here we can see that, Booking not checkedIn are less as compare to the Booking CheckedIn in the given dataset. And also we can see that both classes are not in proportion that is we have an imbalanced dataset.**"
      ],
      "metadata": {
        "id": "Xz1KtFSDqK3D"
      }
    },
    {
      "cell_type": "code",
      "source": [
        "#Checking value counts of Nationality\n",
        "Nationality_df=df['Nationality'].value_counts().reset_index()\n",
        "Nationality_df.rename(columns={'index': 'Nationality_Name'}, inplace=True)\n",
        "Nationality_df.rename(columns={'Nationality': 'Count'}, inplace=True)\n",
        "#top 5 Nationality\n",
        "Nationality_df.head()"
      ],
      "metadata": {
        "colab": {
          "base_uri": "https://localhost:8080/",
          "height": 206
        },
        "id": "Vlh87BlAqJQF",
        "outputId": "40099ba3-4fec-4c26-888f-ea97cd1670d9"
      },
      "execution_count": null,
      "outputs": [
        {
          "output_type": "execute_result",
          "data": {
            "text/plain": [
              "  Nationality_Name  Count\n",
              "0              FRA  12307\n",
              "1              DEU  10164\n",
              "2              GBR   8610\n",
              "3              PRT   7638\n",
              "4              ESP   4863"
            ],
            "text/html": [
              "\n",
              "  <div id=\"df-d77fd129-5f3d-478b-a8dc-5a53bb89e72f\">\n",
              "    <div class=\"colab-df-container\">\n",
              "      <div>\n",
              "<style scoped>\n",
              "    .dataframe tbody tr th:only-of-type {\n",
              "        vertical-align: middle;\n",
              "    }\n",
              "\n",
              "    .dataframe tbody tr th {\n",
              "        vertical-align: top;\n",
              "    }\n",
              "\n",
              "    .dataframe thead th {\n",
              "        text-align: right;\n",
              "    }\n",
              "</style>\n",
              "<table border=\"1\" class=\"dataframe\">\n",
              "  <thead>\n",
              "    <tr style=\"text-align: right;\">\n",
              "      <th></th>\n",
              "      <th>Nationality_Name</th>\n",
              "      <th>Count</th>\n",
              "    </tr>\n",
              "  </thead>\n",
              "  <tbody>\n",
              "    <tr>\n",
              "      <th>0</th>\n",
              "      <td>FRA</td>\n",
              "      <td>12307</td>\n",
              "    </tr>\n",
              "    <tr>\n",
              "      <th>1</th>\n",
              "      <td>DEU</td>\n",
              "      <td>10164</td>\n",
              "    </tr>\n",
              "    <tr>\n",
              "      <th>2</th>\n",
              "      <td>GBR</td>\n",
              "      <td>8610</td>\n",
              "    </tr>\n",
              "    <tr>\n",
              "      <th>3</th>\n",
              "      <td>PRT</td>\n",
              "      <td>7638</td>\n",
              "    </tr>\n",
              "    <tr>\n",
              "      <th>4</th>\n",
              "      <td>ESP</td>\n",
              "      <td>4863</td>\n",
              "    </tr>\n",
              "  </tbody>\n",
              "</table>\n",
              "</div>\n",
              "      <button class=\"colab-df-convert\" onclick=\"convertToInteractive('df-d77fd129-5f3d-478b-a8dc-5a53bb89e72f')\"\n",
              "              title=\"Convert this dataframe to an interactive table.\"\n",
              "              style=\"display:none;\">\n",
              "        \n",
              "  <svg xmlns=\"http://www.w3.org/2000/svg\" height=\"24px\"viewBox=\"0 0 24 24\"\n",
              "       width=\"24px\">\n",
              "    <path d=\"M0 0h24v24H0V0z\" fill=\"none\"/>\n",
              "    <path d=\"M18.56 5.44l.94 2.06.94-2.06 2.06-.94-2.06-.94-.94-2.06-.94 2.06-2.06.94zm-11 1L8.5 8.5l.94-2.06 2.06-.94-2.06-.94L8.5 2.5l-.94 2.06-2.06.94zm10 10l.94 2.06.94-2.06 2.06-.94-2.06-.94-.94-2.06-.94 2.06-2.06.94z\"/><path d=\"M17.41 7.96l-1.37-1.37c-.4-.4-.92-.59-1.43-.59-.52 0-1.04.2-1.43.59L10.3 9.45l-7.72 7.72c-.78.78-.78 2.05 0 2.83L4 21.41c.39.39.9.59 1.41.59.51 0 1.02-.2 1.41-.59l7.78-7.78 2.81-2.81c.8-.78.8-2.07 0-2.86zM5.41 20L4 18.59l7.72-7.72 1.47 1.35L5.41 20z\"/>\n",
              "  </svg>\n",
              "      </button>\n",
              "      \n",
              "  <style>\n",
              "    .colab-df-container {\n",
              "      display:flex;\n",
              "      flex-wrap:wrap;\n",
              "      gap: 12px;\n",
              "    }\n",
              "\n",
              "    .colab-df-convert {\n",
              "      background-color: #E8F0FE;\n",
              "      border: none;\n",
              "      border-radius: 50%;\n",
              "      cursor: pointer;\n",
              "      display: none;\n",
              "      fill: #1967D2;\n",
              "      height: 32px;\n",
              "      padding: 0 0 0 0;\n",
              "      width: 32px;\n",
              "    }\n",
              "\n",
              "    .colab-df-convert:hover {\n",
              "      background-color: #E2EBFA;\n",
              "      box-shadow: 0px 1px 2px rgba(60, 64, 67, 0.3), 0px 1px 3px 1px rgba(60, 64, 67, 0.15);\n",
              "      fill: #174EA6;\n",
              "    }\n",
              "\n",
              "    [theme=dark] .colab-df-convert {\n",
              "      background-color: #3B4455;\n",
              "      fill: #D2E3FC;\n",
              "    }\n",
              "\n",
              "    [theme=dark] .colab-df-convert:hover {\n",
              "      background-color: #434B5C;\n",
              "      box-shadow: 0px 1px 3px 1px rgba(0, 0, 0, 0.15);\n",
              "      filter: drop-shadow(0px 1px 2px rgba(0, 0, 0, 0.3));\n",
              "      fill: #FFFFFF;\n",
              "    }\n",
              "  </style>\n",
              "\n",
              "      <script>\n",
              "        const buttonEl =\n",
              "          document.querySelector('#df-d77fd129-5f3d-478b-a8dc-5a53bb89e72f button.colab-df-convert');\n",
              "        buttonEl.style.display =\n",
              "          google.colab.kernel.accessAllowed ? 'block' : 'none';\n",
              "\n",
              "        async function convertToInteractive(key) {\n",
              "          const element = document.querySelector('#df-d77fd129-5f3d-478b-a8dc-5a53bb89e72f');\n",
              "          const dataTable =\n",
              "            await google.colab.kernel.invokeFunction('convertToInteractive',\n",
              "                                                     [key], {});\n",
              "          if (!dataTable) return;\n",
              "\n",
              "          const docLinkHtml = 'Like what you see? Visit the ' +\n",
              "            '<a target=\"_blank\" href=https://colab.research.google.com/notebooks/data_table.ipynb>data table notebook</a>'\n",
              "            + ' to learn more about interactive tables.';\n",
              "          element.innerHTML = '';\n",
              "          dataTable['output_type'] = 'display_data';\n",
              "          await google.colab.output.renderOutput(dataTable, element);\n",
              "          const docLink = document.createElement('div');\n",
              "          docLink.innerHTML = docLinkHtml;\n",
              "          element.appendChild(docLink);\n",
              "        }\n",
              "      </script>\n",
              "    </div>\n",
              "  </div>\n",
              "  "
            ]
          },
          "metadata": {},
          "execution_count": 15
        }
      ]
    },
    {
      "cell_type": "code",
      "source": [
        "# plotting values count for Nationality \n",
        "plt.figure(figsize=(16,10))\n",
        "plt.title('Top 5 Nationality')\n",
        "sns.barplot(x='Nationality_Name',y='Count',data=Nationality_df[:5], palette='Set1')"
      ],
      "metadata": {
        "colab": {
          "base_uri": "https://localhost:8080/",
          "height": 640
        },
        "id": "2EA0b1jKqTUg",
        "outputId": "1948c60f-d24c-482c-d0df-a6264556fd1e"
      },
      "execution_count": null,
      "outputs": [
        {
          "output_type": "execute_result",
          "data": {
            "text/plain": [
              "<matplotlib.axes._subplots.AxesSubplot at 0x7f6b52d65490>"
            ]
          },
          "metadata": {},
          "execution_count": 16
        },
        {
          "output_type": "display_data",
          "data": {
            "text/plain": [
              "<Figure size 1152x720 with 1 Axes>"
            ],
            "image/png": "[encoded data removed]"
          },
          "metadata": {
            "needs_background": "light"
          }
        }
      ]
    },
    {
      "cell_type": "code",
      "source": [
        "df['MarketSegment'].value_counts()"
      ],
      "metadata": {
        "colab": {
          "base_uri": "https://localhost:8080/"
        },
        "id": "DzbykD-oqYc4",
        "outputId": "06d9adff-80a7-49d1-bb83-788fcd0518f8"
      },
      "execution_count": null,
      "outputs": [
        {
          "output_type": "execute_result",
          "data": {
            "text/plain": [
              "Other                    45650\n",
              "Travel Agent/Operator    11065\n",
              "Direct                   10759\n",
              "Groups                    8861\n",
              "Corporate                 1882\n",
              "Complementary              395\n",
              "Aviation                   222\n",
              "Name: MarketSegment, dtype: int64"
            ]
          },
          "metadata": {},
          "execution_count": 17
        }
      ]
    },
    {
      "cell_type": "code",
      "source": [
        "#values count plot of BookingsCheckedIn\n",
        "plt.figure(figsize=(15,8))\n",
        "sns.countplot(x = 'MarketSegment', data = df, palette= \"Set1\")\n",
        "plt.show()"
      ],
      "metadata": {
        "colab": {
          "base_uri": "https://localhost:8080/",
          "height": 497
        },
        "id": "AwO22dKCqa8Q",
        "outputId": "22b1c05d-0084-4c60-eebe-c797b2b035b9"
      },
      "execution_count": null,
      "outputs": [
        {
          "output_type": "display_data",
          "data": {
            "text/plain": [
              "<Figure size 1080x576 with 1 Axes>"
            ],
            "image/png": "[encoded data removed]"
          },
          "metadata": {
            "needs_background": "light"
          }
        }
      ]
    }
  ]
}